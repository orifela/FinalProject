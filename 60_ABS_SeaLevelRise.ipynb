{
  "cells": [
    {
      "cell_type": "markdown",
      "source": [
        "התקנת ספרייה של גוגל לשימוש במנוע AI"
      ],
      "metadata": {
        "id": "J3W1k-ETbKM9"
      }
    },
    {
      "cell_type": "code",
      "execution_count": null,
      "metadata": {
        "colab": {
          "base_uri": "https://localhost:8080/"
        },
        "id": "u9V1YcOE5tv5",
        "outputId": "0c0f748a-5a7f-435c-b518-d773ef21c802"
      },
      "outputs": [
        {
          "output_type": "stream",
          "name": "stdout",
          "text": [
            "\u001b[2K     \u001b[90m━━━━━━━━━━━━━━━━━━━━━━━━━━━━━━━━━━━━━━━━\u001b[0m \u001b[32m164.2/164.2 kB\u001b[0m \u001b[31m1.5 MB/s\u001b[0m eta \u001b[36m0:00:00\u001b[0m\n",
            "\u001b[2K     \u001b[90m━━━━━━━━━━━━━━━━━━━━━━━━━━━━━━━━━━━━━━━━\u001b[0m \u001b[32m718.3/718.3 kB\u001b[0m \u001b[31m7.7 MB/s\u001b[0m eta \u001b[36m0:00:00\u001b[0m\n",
            "\u001b[?25h"
          ]
        }
      ],
      "source": [
        "!pip install -q -U google-generativeai"
      ]
    },
    {
      "cell_type": "markdown",
      "source": [
        "ספריות רלוונטיות שהשתמשנו בהם"
      ],
      "metadata": {
        "id": "VXaH8cEDbTh9"
      }
    },
    {
      "cell_type": "code",
      "execution_count": null,
      "metadata": {
        "id": "SeUg55Xh7MF0"
      },
      "outputs": [],
      "source": [
        "import pathlib\n",
        "import textwrap\n",
        "\n",
        "import google.generativeai as genai\n",
        "\n",
        "from google.colab import userdata\n",
        "from IPython.display import display\n",
        "from IPython.display import Markdown\n",
        "\n",
        "def to_markdown(text):\n",
        "  text = text.replace('.',' *')\n",
        "  return Markdown(textwrap.indent(text,'>', predicate= lambda _:True))"
      ]
    },
    {
      "cell_type": "markdown",
      "source": [
        "מפתח סודי לשימוש בבינה המלכותית בקוד"
      ],
      "metadata": {
        "id": "4lIWWrrCbYWJ"
      }
    },
    {
      "cell_type": "code",
      "execution_count": null,
      "metadata": {
        "id": "D0dhBdCq7MDx"
      },
      "outputs": [],
      "source": [
        "GOOGLE_API_KEY = userdata.get('gemini_key')\n",
        "\n",
        "genai.configure(api_key = GOOGLE_API_KEY)"
      ]
    },
    {
      "cell_type": "markdown",
      "source": [
        "רשימת המודלים הזמינים לשימוש"
      ],
      "metadata": {
        "id": "vsC_hj8xbj8j"
      }
    },
    {
      "cell_type": "code",
      "execution_count": null,
      "metadata": {
        "colab": {
          "base_uri": "https://localhost:8080/",
          "height": 225
        },
        "id": "CnpQW3Ki7MBL",
        "outputId": "5f8e5544-b9e8-4db3-814c-a4fb9b51ad79"
      },
      "outputs": [
        {
          "output_type": "stream",
          "name": "stdout",
          "text": [
            "models/gemini-1.0-pro\n",
            "models/gemini-1.0-pro-001\n",
            "models/gemini-1.0-pro-latest\n",
            "models/gemini-1.0-pro-vision-latest\n",
            "models/gemini-1.5-flash\n",
            "models/gemini-1.5-flash-001\n",
            "models/gemini-1.5-flash-latest\n",
            "models/gemini-1.5-pro\n",
            "models/gemini-1.5-pro-001\n",
            "models/gemini-1.5-pro-latest\n",
            "models/gemini-pro\n",
            "models/gemini-pro-vision\n"
          ]
        }
      ],
      "source": [
        "for m in genai.list_models():\n",
        "    if 'generateContent' in m.supported_generation_methods:\n",
        "        print(m.name)\n"
      ]
    },
    {
      "cell_type": "markdown",
      "source": [
        "בחירת המודל"
      ],
      "metadata": {
        "id": "4ZnPqQp_bn6y"
      }
    },
    {
      "cell_type": "code",
      "execution_count": null,
      "metadata": {
        "id": "V9ye9KWv7L-3"
      },
      "outputs": [],
      "source": [
        "model = genai.GenerativeModel('gemini-pro')"
      ]
    },
    {
      "cell_type": "markdown",
      "source": [
        "הפקודה שמאפשרת לעבוד עם קבצי ווארד בפייתון"
      ],
      "metadata": {
        "id": "c04WkFK8b8wN"
      }
    },
    {
      "cell_type": "code",
      "execution_count": null,
      "metadata": {
        "colab": {
          "base_uri": "https://localhost:8080/"
        },
        "id": "sxq-mQIa8oVi",
        "outputId": "de358673-c225-4338-bbe7-d0c669796b48"
      },
      "outputs": [
        {
          "output_type": "stream",
          "name": "stdout",
          "text": [
            "Collecting python-docx\n",
            "  Downloading python_docx-1.1.2-py3-none-any.whl (244 kB)\n",
            "\u001b[2K     \u001b[90m━━━━━━━━━━━━━━━━━━━━━━━━━━━━━━━━━━━━━━━━\u001b[0m \u001b[32m244.3/244.3 kB\u001b[0m \u001b[31m1.9 MB/s\u001b[0m eta \u001b[36m0:00:00\u001b[0m\n",
            "\u001b[?25hRequirement already satisfied: lxml>=3.1.0 in /usr/local/lib/python3.10/dist-packages (from python-docx) (4.9.4)\n",
            "Requirement already satisfied: typing-extensions>=4.9.0 in /usr/local/lib/python3.10/dist-packages (from python-docx) (4.12.2)\n",
            "Installing collected packages: python-docx\n",
            "Successfully installed python-docx-1.1.2\n"
          ]
        }
      ],
      "source": [
        "!pip install python-docx\n"
      ]
    },
    {
      "cell_type": "markdown",
      "source": [
        "הסקריפט ששולח מאמרים ושאלות לבינה המלכותית ומחזיר תשובות בקובץ אקסל"
      ],
      "metadata": {
        "id": "2gyP51X8cL1C"
      }
    },
    {
      "cell_type": "code",
      "execution_count": null,
      "metadata": {
        "colab": {
          "base_uri": "https://localhost:8080/",
          "height": 141
        },
        "id": "Txez6BPr7L8T",
        "outputId": "01bb495a-1d97-436c-f2a9-fe8945575025"
      },
      "outputs": [
        {
          "output_type": "stream",
          "name": "stdout",
          "text": [
            "Total articles found: 60\n"
          ]
        },
        {
          "output_type": "stream",
          "name": "stderr",
          "text": [
            "WARNING:tornado.access:429 POST /v1beta/models/gemini-pro:generateContent?%24alt=json%3Benum-encoding%3Dint (127.0.0.1) 462.35ms\n"
          ]
        },
        {
          "output_type": "stream",
          "name": "stdout",
          "text": [
            "Error on attempt 1: 429 POST https://generativelanguage.googleapis.com/v1beta/models/gemini-pro:generateContent?%24alt=json%3Benum-encoding%3Dint: Resource has been exhausted (e.g. check quota).\n"
          ]
        },
        {
          "output_type": "stream",
          "name": "stderr",
          "text": [
            "WARNING:tornado.access:429 POST /v1beta/models/gemini-pro:generateContent?%24alt=json%3Benum-encoding%3Dint (127.0.0.1) 460.37ms\n"
          ]
        },
        {
          "output_type": "stream",
          "name": "stdout",
          "text": [
            "Error on attempt 1: 429 POST https://generativelanguage.googleapis.com/v1beta/models/gemini-pro:generateContent?%24alt=json%3Benum-encoding%3Dint: Resource has been exhausted (e.g. check quota).\n",
            "Data has been saved to 'sea_level_rise_New_Q1.xlsx'\n"
          ]
        }
      ],
      "source": [
        "import openpyxl\n",
        "from openpyxl import Workbook\n",
        "import docx\n",
        "import re\n",
        "import time\n",
        "\n",
        "# קריאת קובץ Word והוצאת הטקסט\n",
        "def read_word_file(file_path):\n",
        "    doc = docx.Document(file_path)\n",
        "    full_text = []\n",
        "    for para in doc.paragraphs:\n",
        "        full_text.append(para.text)\n",
        "    return '\\n'.join(full_text)\n",
        "\n",
        "# השאלות שיישלחו למודל גימיני\n",
        "questions = \"\"\"\n",
        "1. How much does the sea level rise every year?\n",
        "2. How much has the global sea level risen in total over the past 50 years in centimeters?\n",
        "3. What is the projected sea level rise by the year 2100 according to different climate models in centimeters or meters?\n",
        "4. How much have specific coastal cities (e.g., New York, Miami, Tokyo) experienced in terms of sea level rise in the past 50 years in centimeters?\n",
        "5. What percentage of global ice melt (from glaciers and ice sheets) contributes to sea level rise annually?\n",
        "6. How many people are estimated to be at risk of displacement due to sea level rise by 2050 and 2100?\n",
        "7. What is the average rate of coastal erosion per year in regions most affected by sea level rise in meters?\n",
        "8. What is the correlation between global temperature increase and sea level rise over the past century?\n",
        "9. What is the estimated volume of water added to the oceans annually from melting Greenland and Antarctic ice sheets?\n",
        "10.How much has the sea level rise accelerated (in percentage) over the last decade compared to the historical average?\n",
        "\"\"\"\n",
        "\n",
        "# פונקציה לשליחת בקשה לגימיני עם ניסיון מחדש\n",
        "def generate_response_with_retry(abstract, questions, retries=3):\n",
        "    for attempt in range(retries):\n",
        "        try:\n",
        "            # שליחת בקשה למודל\n",
        "            response = model.generate_content(\n",
        "                f\"Based on this abstract: '{abstract}', please answer these questions: {questions}. If the abstract does not provide information for a question, respond with 'NULL'.\"\n",
        "            )\n",
        "            return response\n",
        "        except Exception as e:\n",
        "            print(f\"Error on attempt {attempt + 1}: {e}\")\n",
        "            if \"429\" in str(e):  # קוד שגיאה למניעת עומס\n",
        "                time.sleep(60)  # המתנה של 60 שניות\n",
        "            else:\n",
        "                time.sleep(15)  # המתנה של 15 שניות\n",
        "    return None\n",
        "\n",
        "file_path = \"/content/SEA LEVEL RISE ABS.docx\"\n",
        "\n",
        "# קריאת תוכן מקובץ ה-Word\n",
        "try:\n",
        "    content = read_word_file(file_path)\n",
        "except Exception as e:\n",
        "    print(f\"Failed to read the Word file: {e}\")\n",
        "    content = \"\"\n",
        "\n",
        "# חלוקת הטקסט למאמרים לפי הכותרת של כל מאמר\n",
        "articles = re.split(r'(?=\\bTitle:\\s)', content)\n",
        "\n",
        "# יצירת רשימה לאחסון המאמרים\n",
        "abstracts_array = []\n",
        "\n",
        "for article in articles:\n",
        "    record_info = {}\n",
        "\n",
        "    # מציאת הכותרת\n",
        "    title_match = re.search(r'Title:\\s*(.*)', article)\n",
        "    if title_match:\n",
        "        record_info['Title'] = title_match.group(1).strip()\n",
        "\n",
        "    # מציאת השנה\n",
        "    year_match = re.search(r'Published:\\s*(\\d{4})', article)\n",
        "    if year_match:\n",
        "        record_info['Year'] = year_match.group(1).strip()\n",
        "\n",
        "    # מציאת התקציר\n",
        "    abstract_match = re.search(r'Abstract:\\s*(.*)', article, re.DOTALL)\n",
        "    if abstract_match:\n",
        "        record_info['Abstract'] = abstract_match.group(1).strip()\n",
        "\n",
        "    # אם מצאנו גם כותרת וגם תקציר, נוסיף את המאמר לרשימה\n",
        "    if 'Title' in record_info and 'Abstract' in record_info:\n",
        "        abstracts_array.append(record_info)\n",
        "\n",
        "# הצגת מספר המאמרים שמצאנו\n",
        "print(f\"Total articles found: {len(abstracts_array)}\")\n",
        "\n",
        "# יצירת קובץ אקסל חדש\n",
        "wb = Workbook()\n",
        "ws = wb.active\n",
        "ws.title = \"Article Responses\"\n",
        "\n",
        "# כתיבת כותרות העמודות\n",
        "headers = [\"Title\", \"Year\", \"Abstract\"] + [f\"Q{i}\" for i in range(1, 11)]\n",
        "ws.append(headers)\n",
        "\n",
        "# ריצה על כל המאמרים ושמירת התשובות\n",
        "for article in abstracts_array:\n",
        "    abstract = article.get(\"Abstract\", \"\")\n",
        "    response = generate_response_with_retry(abstract, questions)\n",
        "\n",
        "    if response:\n",
        "        # הנחת שהתשובה מגיעה באובייקט של המודל ויש לגשת לתוכן שלו\n",
        "        try:\n",
        "            # בדיקה אם האובייקט מכיל טקסט בתור חלק יחיד או בתור חלקים\n",
        "            if hasattr(response, 'text'):\n",
        "                answers = response.text.strip().split('\\n')\n",
        "            elif hasattr(response, 'parts') and response.parts:\n",
        "                # שילוב כל החלקים יחד לפסקה אחת, ואז הפרדה לפי שורות\n",
        "                combined_text = '\\n'.join(part.text for part in response.parts if hasattr(part, 'text'))\n",
        "                answers = combined_text.strip().split('\\n')\n",
        "            else:\n",
        "                answers = [\"NULL\"] * 10\n",
        "        except Exception as e:\n",
        "            print(f\"Failed to parse response: {e}\")\n",
        "            answers = [\"NULL\"] * 10\n",
        "        # נוודא שהפורמט מתאים ל-10 שאלות\n",
        "        answers = (answers + [\"NULL\"] * 10)[:10]\n",
        "    else:\n",
        "        answers = [\"NULL\"] * 10\n",
        "\n",
        "    row = [article.get(\"Title\", \"\"), article.get(\"Year\", \"\"), abstract] + answers\n",
        "    ws.append(row)\n",
        "\n",
        "# שמירת הקובץ\n",
        "output_path = \"sea_level_rise_New_Q1.xlsx\"\n",
        "wb.save(output_path)\n",
        "\n",
        "print(f\"Data has been saved to '{output_path}'\")\n"
      ]
    }
  ],
  "metadata": {
    "colab": {
      "provenance": []
    },
    "kernelspec": {
      "display_name": "Python 3",
      "name": "python3"
    },
    "language_info": {
      "name": "python"
    }
  },
  "nbformat": 4,
  "nbformat_minor": 0
}